{
 "cells": [
  {
   "cell_type": "markdown",
   "metadata": {},
   "source": [
    "## Teste A/B\n",
    "\n",
    "Teste A/B, também conhecido como RCT (Randomized Control Trial), é uma ferramenta de experimentação que permite comparar duas versões de uma variável para determinar qual das duas tem melhor desempenho.\n",
    "\n",
    "Caso você não conheça sobre o assunto, recomendo a leitura do artigo xxx, que apresenta as bases do teste AB em inglês\n",
    "De maneira didática, podemos resumir o Teste A/B em xxx fases:\n",
    "\n",
    "    I - Determinação da análise\n",
    "    II - Segmentação dos grupos\n",
    "    III - Coleta de Dados e análise das variáveis\n",
    "    IV - Apresentação de resultados\n",
    "A cada parte do nosso código iremos falar sobre os passos realizados, pontos de atenção e erros comuns.\n",
    "\n",
    "Esse artigo não pretende substituir o estudo de análise de hipóteses, ele tem como foco ser um artigo introdutório imaginando um analista de marketing JR"
   ]
  },
  {
   "cell_type": "markdown",
   "metadata": {},
   "source": [
    "### Determinação da Análise:\n",
    "A determinação da análise passa por algumas etapas:\n",
    "1. Definição do objetivo: O que se espera alcançar com o teste? \n",
    "2. Escolha da métrica: Qual é a métrica de sucesso ? \n",
    "3. Quais as versões escolhidas para o teste, e quantas? \n",
    "4. Definição de hipóteses: Qual a hipótese nula (h0) e a hipótese alternativa?\n",
    "5. Segmentação dos grupos: Como será realizado a amostra, quantos grupos teremos?  "
   ]
  },
  {
   "cell_type": "markdown",
   "metadata": {},
   "source": [
    "#### 1. Definição do objetivo:\n",
    "\n",
    "Uma questão prática do teste A/B é que ele tem que estar alinhado com os desafios do seu negócio. Lembre-se, testar implica em alocação de recursos, tanto financeiros quanto de força de trabalho.\n",
    "No nosso caso, estamos tentando identificar se campanhas com imagens mais \"caseiras\" são mais efetivas do que as imagens produzidas que temos lançado até o momento, visando aumentar a taxa de conversão de nossos anúncios.\n",
    "#### 2. Escolha de métricas: Qual é a métrica de sucesso? Usaremos métricas secundárias?  \n",
    "\n",
    "Para medir se anúncios \"caseiros\" são mais efetivos que anúncios produzidos, podemos utilizar o CTR(click-through-rate), que mede o número de usuários que clicaram no anúncio pelo número de usuários que viram nossos anúncios.\n",
    "Para métricas secundárias, utilizaremos vendas, CPC e outros\n",
    "\n",
    "#### 3. Quais as versões escolhidas para o teste?\n",
    " \n",
    "Utilizaremos para o teste 2 versões:\n",
    "A - Anúncios produzidos que já utilizamos normalmente - Grupo Controle\n",
    "\n",
    "B - Anúncios caseiros que queremos verificar a performance - Grupo Teste\n",
    "\n",
    "#### 4. Definição de hipóteses:\n",
    "\n",
    "H0(Hipótese Nula): A média de CTR entre a versão A e a Versão B são iguais\n",
    "H1(Hipótese Alternativa): A média de CTR entre a versão A e a Versão B são diferentes \n"
   ]
  },
  {
   "cell_type": "code",
   "execution_count": 19,
   "metadata": {},
   "outputs": [
    {
     "name": "stdout",
     "output_type": "stream",
     "text": [
      "<class 'pandas.core.frame.DataFrame'>\n",
      "RangeIndex: 30 entries, 0 to 29\n",
      "Data columns (total 10 columns):\n",
      " #   Column               Non-Null Count  Dtype  \n",
      "---  ------               --------------  -----  \n",
      " 0   Campaign Name        30 non-null     object \n",
      " 1   Date                 30 non-null     object \n",
      " 2   Spend [USD]          30 non-null     int64  \n",
      " 3   # of Impressions     29 non-null     float64\n",
      " 4   Reach                29 non-null     float64\n",
      " 5   # of Website Clicks  29 non-null     float64\n",
      " 6   # of Searches        29 non-null     float64\n",
      " 7   # of View Content    29 non-null     float64\n",
      " 8   # of Add to Cart     29 non-null     float64\n",
      " 9   # of Purchase        29 non-null     float64\n",
      "dtypes: float64(7), int64(1), object(2)\n",
      "memory usage: 2.5+ KB\n",
      "<class 'pandas.core.frame.DataFrame'>\n",
      "RangeIndex: 30 entries, 0 to 29\n",
      "Data columns (total 10 columns):\n",
      " #   Column               Non-Null Count  Dtype \n",
      "---  ------               --------------  ----- \n",
      " 0   Campaign Name        30 non-null     object\n",
      " 1   Date                 30 non-null     object\n",
      " 2   Spend [USD]          30 non-null     int64 \n",
      " 3   # of Impressions     30 non-null     int64 \n",
      " 4   Reach                30 non-null     int64 \n",
      " 5   # of Website Clicks  30 non-null     int64 \n",
      " 6   # of Searches        30 non-null     int64 \n",
      " 7   # of View Content    30 non-null     int64 \n",
      " 8   # of Add to Cart     30 non-null     int64 \n",
      " 9   # of Purchase        30 non-null     int64 \n",
      "dtypes: int64(8), object(2)\n",
      "memory usage: 2.5+ KB\n"
     ]
    }
   ],
   "source": [
    "## Importando dados\n",
    "import pandas as pd \n",
    "import numpy as np \n",
    "teste = pd.read_csv(r\"C:\\Users\\luiz.angelo\\Documents\\VSCODE\\personal_projects\\AB Testing\\archive (2)\\test_group.csv\",sep=';')\n",
    "controle = pd.read_csv(r\"C:\\Users\\luiz.angelo\\Documents\\VSCODE\\personal_projects\\AB Testing\\archive (2)\\control_group.csv\",sep=';')\n",
    "## Verificando se o dataset contém a mesma estrutura\n",
    "controle.info()\n",
    "teste.info()"
   ]
  },
  {
   "cell_type": "code",
   "execution_count": 20,
   "metadata": {},
   "outputs": [
    {
     "data": {
      "text/plain": [
       "Campaign Name          0\n",
       "Date                   0\n",
       "Spend [USD]            0\n",
       "# of Impressions       0\n",
       "Reach                  0\n",
       "# of Website Clicks    0\n",
       "# of Searches          0\n",
       "# of View Content      0\n",
       "# of Add to Cart       0\n",
       "# of Purchase          0\n",
       "dtype: int64"
      ]
     },
     "execution_count": 20,
     "metadata": {},
     "output_type": "execute_result"
    }
   ],
   "source": [
    "## Checando se os dados possuem valores faltantes\n",
    "teste.isnull().sum()"
   ]
  },
  {
   "cell_type": "code",
   "execution_count": 21,
   "metadata": {},
   "outputs": [
    {
     "data": {
      "text/plain": [
       "Campaign Name          0\n",
       "Date                   0\n",
       "Spend [USD]            0\n",
       "# of Impressions       1\n",
       "Reach                  1\n",
       "# of Website Clicks    1\n",
       "# of Searches          1\n",
       "# of View Content      1\n",
       "# of Add to Cart       1\n",
       "# of Purchase          1\n",
       "dtype: int64"
      ]
     },
     "execution_count": 21,
     "metadata": {},
     "output_type": "execute_result"
    }
   ],
   "source": [
    "controle.isnull().sum()"
   ]
  },
  {
   "cell_type": "markdown",
   "metadata": {},
   "source": [
    "Como temos valores faltantes no grupo controle, precisamos decidir se vamos excluir essas informações do dataset ou substituí-las. \n",
    "Para isso, podemos verificar quantos dias teríamos que excluir e se isso inviabilizaria o experimento"
   ]
  },
  {
   "cell_type": "code",
   "execution_count": 32,
   "metadata": {},
   "outputs": [
    {
     "data": {
      "text/plain": [
       "(1, 10)"
      ]
     },
     "execution_count": 32,
     "metadata": {},
     "output_type": "execute_result"
    }
   ],
   "source": [
    "isna = controle[controle.isna().any(axis=1)]\n",
    "isna.shape\n"
   ]
  },
  {
   "cell_type": "code",
   "execution_count": 33,
   "metadata": {},
   "outputs": [
    {
     "data": {
      "text/html": [
       "<div>\n",
       "<style scoped>\n",
       "    .dataframe tbody tr th:only-of-type {\n",
       "        vertical-align: middle;\n",
       "    }\n",
       "\n",
       "    .dataframe tbody tr th {\n",
       "        vertical-align: top;\n",
       "    }\n",
       "\n",
       "    .dataframe thead th {\n",
       "        text-align: right;\n",
       "    }\n",
       "</style>\n",
       "<table border=\"1\" class=\"dataframe\">\n",
       "  <thead>\n",
       "    <tr style=\"text-align: right;\">\n",
       "      <th></th>\n",
       "      <th>Campaign Name</th>\n",
       "      <th>Date</th>\n",
       "      <th>Spend [USD]</th>\n",
       "      <th># of Impressions</th>\n",
       "      <th>Reach</th>\n",
       "      <th># of Website Clicks</th>\n",
       "      <th># of Searches</th>\n",
       "      <th># of View Content</th>\n",
       "      <th># of Add to Cart</th>\n",
       "      <th># of Purchase</th>\n",
       "    </tr>\n",
       "  </thead>\n",
       "  <tbody>\n",
       "    <tr>\n",
       "      <th>4</th>\n",
       "      <td>Control Campaign</td>\n",
       "      <td>5.08.2019</td>\n",
       "      <td>1835</td>\n",
       "      <td>NaN</td>\n",
       "      <td>NaN</td>\n",
       "      <td>NaN</td>\n",
       "      <td>NaN</td>\n",
       "      <td>NaN</td>\n",
       "      <td>NaN</td>\n",
       "      <td>NaN</td>\n",
       "    </tr>\n",
       "  </tbody>\n",
       "</table>\n",
       "</div>"
      ],
      "text/plain": [
       "      Campaign Name       Date  Spend [USD]  # of Impressions  Reach  \\\n",
       "4  Control Campaign  5.08.2019         1835               NaN    NaN   \n",
       "\n",
       "   # of Website Clicks  # of Searches  # of View Content  # of Add to Cart  \\\n",
       "4                  NaN            NaN                NaN               NaN   \n",
       "\n",
       "   # of Purchase  \n",
       "4            NaN  "
      ]
     },
     "execution_count": 33,
     "metadata": {},
     "output_type": "execute_result"
    }
   ],
   "source": [
    "isna.head()"
   ]
  }
 ],
 "metadata": {
  "kernelspec": {
   "display_name": "Petlove",
   "language": "python",
   "name": "python3"
  },
  "language_info": {
   "codemirror_mode": {
    "name": "ipython",
    "version": 3
   },
   "file_extension": ".py",
   "mimetype": "text/x-python",
   "name": "python",
   "nbconvert_exporter": "python",
   "pygments_lexer": "ipython3",
   "version": "3.12.3"
  }
 },
 "nbformat": 4,
 "nbformat_minor": 2
}
